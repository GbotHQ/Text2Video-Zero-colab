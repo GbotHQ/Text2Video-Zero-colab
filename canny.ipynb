{
  "cells": [
    {
      "cell_type": "code",
      "execution_count": null,
      "metadata": {
        "id": "Mx32IE36tWXa"
      },
      "outputs": [],
      "source": [
        "%cd /content/\n",
        "!git clone https://github.com/GbotHQ/Text2Video-Zero-colab"
      ]
    },
    {
      "cell_type": "code",
      "execution_count": null,
      "metadata": {
        "id": "jWhseZb2tZnE"
      },
      "outputs": [],
      "source": [
        "%pip install -q gradio==3.23.0 decord==0.6.0 diffusers==0.14.0 accelerate==0.17.0 safetensors==0.2.7 einops==0.6.0 transformers==4.26.0\n",
        "%pip install -q xformers==0.0.16\n",
        "%pip install -q triton==2.0.0\n",
        "%pip install -q kornia==0.6.11\n",
        "%pip install -q basicsr==1.4.2"
      ]
    },
    {
      "cell_type": "code",
      "execution_count": null,
      "metadata": {
        "id": "7ip6uuzst_Kr"
      },
      "outputs": [],
      "source": [
        "%cd /content/Text2Video-Zero/\n",
        "!git checkout 3e2dd4c"
      ]
    },
    {
      "cell_type": "code",
      "execution_count": null,
      "metadata": {
        "id": "Vqcmi_W8t8P_"
      },
      "outputs": [],
      "source": [
        "import gradio as gr\n",
        "import torch\n",
        "\n",
        "from model import Model, ModelType\n",
        "\n",
        "from app_canny import create_demo as create_demo_canny\n",
        "\n",
        "\n",
        "model = Model(device='cuda', dtype=torch.float16)\n",
        "\n",
        "with gr.Blocks(css='style.css') as demo:\n",
        "    gr.HTML(\n",
        "        \"\"\"\n",
        "        <div style=\"text-align: center; max-width: 1200px; margin: 20px auto;\">\n",
        "        <h1 style=\"font-weight: 900; font-size: 3rem; margin: 0rem\">\n",
        "            Text2Video-Zero\n",
        "        </h1>\n",
        "        <h2 style=\"font-weight: 450; font-size: 1rem; margin: 0rem\">\n",
        "        Levon Khachatryan<sup>1*</sup>, Andranik Movsisyan<sup>1*</sup>, Vahram Tadevosyan<sup>1*</sup>, Roberto Henschel<sup>1*</sup>, Zhangyang Wang<sup>1,2</sup>, Shant Navasardyan<sup>1</sup>\n",
        "        and <a href=\"https://www.humphreyshi.com/home\">Humphrey Shi</a><sup>1,3,4</sup>\n",
        "        </h2>\n",
        "        <h2 style=\"font-weight: 450; font-size: 1rem; margin: 0rem\">\n",
        "        <sup>1</sup>Picsart AI Resarch (PAIR), <sup>2</sup>UT Austin, <sup>3</sup>U of Oregon, <sup>4</sup>UIUC\n",
        "        </h2>\n",
        "        <h2 style=\"font-weight: 450; font-size: 1rem; margin: 0rem\">\n",
        "        [<a href=\"https://arxiv.org/abs/2303.13439\" style=\"color:blue;\">arXiv</a>] \n",
        "        [<a href=\"https://github.com/Picsart-AI-Research/Text2Video-Zero\" style=\"color:blue;\">GitHub</a>]\n",
        "        </h2>\n",
        "        <h2 style=\"font-weight: 450; font-size: 1rem; margin-top: 0.5rem; margin-bottom: 0.5rem\">\n",
        "        We built <b>Text2Video-Zero</b>,  a first zero-shot text-to-video synthesis diffusion framework, that enables low cost yet high-quality and consistent video generation with only pre-trained text-to-image diffusion models without any training on videos or optimization!\n",
        "        Text2Video-Zero also naturally supports cool extension works of pre-trained text-to-image models such as Instruct Pix2Pix, ControlNet and DreamBooth, and based on which we present Video Instruct Pix2Pix, Pose Conditional, Edge Conditional and, Edge Conditional and DreamBooth Specialized applications.\n",
        "        We hope our Text2Video-Zero will further democratize AI and empower the creativity of everyone by unleashing the zero-shot video generation and editing capacity of the amazing text-to-image models and encourage future research!\n",
        "        </h2>\n",
        "        </div>\n",
        "        \"\"\")\n",
        "\n",
        "\n",
        "    with gr.Tab('Edge Conditional'):\n",
        "        create_demo_canny(model)\n",
        "\n",
        "\n",
        "    gr.HTML(\n",
        "        \"\"\"\n",
        "        <div style=\"text-align: justify; max-width: 1200px; margin: 20px auto;\">\n",
        "        <h3 style=\"font-weight: 450; font-size: 0.8rem; margin: 0rem\">\n",
        "        <b>Version: v1.0</b>\n",
        "        </h3>\n",
        "        <h3 style=\"font-weight: 450; font-size: 0.8rem; margin: 0rem\">\n",
        "        <b>Caution</b>: \n",
        "        We would like the raise the awareness of users of this demo of its potential issues and concerns.\n",
        "        Like previous large foundation models, Text2Video-Zero could be problematic in some cases, partially we use pretrained Stable Diffusion, therefore Text2Video-Zero can Inherit Its Imperfections.\n",
        "        So far, we keep all features available for research testing both to show the great potential of the Text2Video-Zero framework and to collect important feedback to improve the model in the future.\n",
        "        We welcome researchers and users to report issues with the HuggingFace community discussion feature or email the authors.\n",
        "        </h3>\n",
        "        <h3 style=\"font-weight: 450; font-size: 0.8rem; margin: 0rem\">\n",
        "        <b>Biases and content acknowledgement</b>:\n",
        "        Beware that Text2Video-Zero may output content that reinforces or exacerbates societal biases, as well as realistic faces, pornography, and violence. \n",
        "        Text2Video-Zero in this demo is meant only for research purposes.\n",
        "        </h3>\n",
        "        </div>\n",
        "        \"\"\")\n",
        "\n",
        "_, _, link = demo.launch(\n",
        "    file_directories=['temporal'], share=True)\n",
        "print(link)\n"
      ]
    }
  ],
  "metadata": {
    "accelerator": "GPU",
    "colab": {
      "private_outputs": true,
      "provenance": []
    },
    "gpuClass": "standard",
    "kernelspec": {
      "display_name": "Python 3",
      "language": "python",
      "name": "python3"
    },
    "language_info": {
      "name": "python",
      "version": "3.10.8"
    },
    "vscode": {
      "interpreter": {
        "hash": "e593ac106456af50ce7af38f9671c411b49d6cd90f9b885e167f0f594e09038c"
      }
    }
  },
  "nbformat": 4,
  "nbformat_minor": 0
}
