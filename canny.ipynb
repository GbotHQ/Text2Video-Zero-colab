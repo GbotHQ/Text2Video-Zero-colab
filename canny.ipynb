{
  "cells": [
    {
      "cell_type": "code",
      "execution_count": null,
      "metadata": {
        "id": "Mx32IE36tWXa"
      },
      "outputs": [],
      "source": [
        "%cd /content/\n",
        "!git clone https://github.com/GbotHQ/Text2Video-Zero-colab"
      ]
    },
    {
      "cell_type": "code",
      "execution_count": null,
      "metadata": {
        "id": "jWhseZb2tZnE"
      },
      "outputs": [],
      "source": [
        "%pip install -q gradio==3.23.0 decord==0.6.0 diffusers==0.14.0 accelerate==0.17.0 safetensors==0.2.7 einops==0.6.0 transformers==4.26.0\n",
        "%pip install -q xformers==0.0.16\n",
        "%pip install -q triton==2.0.0\n",
        "%pip install -q kornia==0.6.11\n",
        "%pip install -q basicsr==1.4.2"
      ]
    },
    {
      "cell_type": "code",
      "execution_count": null,
      "metadata": {
        "id": "7ip6uuzst_Kr"
      },
      "outputs": [],
      "source": [
        "%cd /content/Text2Video-Zero/\n",
        "!git checkout 3e2dd4c"
      ]
    },
    {
      "cell_type": "code",
      "execution_count": null,
      "metadata": {
        "id": "Vqcmi_W8t8P_"
      },
      "outputs": [],
      "source": [
        "!python -m \"Text2Video-Zero/app.py\""
      ]
    }
  ],
  "metadata": {
    "accelerator": "GPU",
    "colab": {
      "private_outputs": true,
      "provenance": []
    },
    "gpuClass": "standard",
    "kernelspec": {
      "display_name": "Python 3",
      "language": "python",
      "name": "python3"
    },
    "language_info": {
      "name": "python",
      "version": "3.10.8"
    },
    "vscode": {
      "interpreter": {
        "hash": "e593ac106456af50ce7af38f9671c411b49d6cd90f9b885e167f0f594e09038c"
      }
    }
  },
  "nbformat": 4,
  "nbformat_minor": 0
}
